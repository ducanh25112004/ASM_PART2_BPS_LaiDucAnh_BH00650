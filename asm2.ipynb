{
 "cells": [
  {
   "cell_type": "code",
   "id": "initial_id",
   "metadata": {
    "collapsed": true,
    "ExecuteTime": {
     "end_time": "2024-08-03T13:45:52.406175Z",
     "start_time": "2024-08-03T13:45:50.346095Z"
    }
   },
   "source": [
    "import pandas as pd\n",
    "import matplotlib.pyplot as plt\n",
    "from sklearn.model_selection import train_test_split\n",
    "from sklearn.linear_model import LinearRegression\n",
    "from sklearn.metrics import mean_squared_error\n"
   ],
   "outputs": [],
   "execution_count": 1
  },
  {
   "cell_type": "code",
   "source": [
    "\n",
    "filenames = 'asm2_demo.csv'\n",
    "df = pd.read_csv(filenames)\n",
    "df"
   ],
   "metadata": {
    "collapsed": false,
    "ExecuteTime": {
     "end_time": "2024-08-03T13:45:52.428725Z",
     "start_time": "2024-08-03T13:45:52.407194Z"
    }
   },
   "id": "d1845f5b83622c94",
   "outputs": [
    {
     "data": {
      "text/plain": [
       "     ResultID      Date  ProductID StoreID  Quantity Ordered   Price Each   \\\n",
       "0           1  01/01/23      101.0    ST01               1.0        700.00   \n",
       "1           2  01/02/23      102.0    ST02               1.0         14.95   \n",
       "2           3  01/03/23      103.0    ST03               2.0         11.99   \n",
       "3           4  01/04/23      104.0    ST04               1.0        149.99   \n",
       "4           5  01/05/23      105.0    ST05               1.0         11.99   \n",
       "..        ...       ...        ...     ...               ...           ...   \n",
       "366       333  12/27/23      128.0    ST13               1.0         11.95   \n",
       "367       334  12/28/23        NaN    ST14               3.0          2.99   \n",
       "368       335  12/29/23      127.0    ST15               1.0         11.99   \n",
       "369       336  12/30/23      128.0    ST01               1.0          2.99   \n",
       "370       337  12/31/23      128.0    ST02               2.0          2.99   \n",
       "\n",
       "               Address        City  \n",
       "0      123 Main Street         NYC  \n",
       "1       456 Elm Avenue          LA  \n",
       "2    789 Oak Boulevard     Chicago  \n",
       "3      1000 Pine Drive     Houston  \n",
       "4     123 Maple Street     Phoenix  \n",
       "..                 ...         ...  \n",
       "366   123 Maple Street      Denver  \n",
       "367     456 Oak Avenue    Columbus  \n",
       "368  789 Elm Boulevard  Fort Worth  \n",
       "369    1000 Pine Drive   Charlotte  \n",
       "370    123 Main Street     Seattle  \n",
       "\n",
       "[371 rows x 8 columns]"
      ],
      "text/html": [
       "<div>\n",
       "<style scoped>\n",
       "    .dataframe tbody tr th:only-of-type {\n",
       "        vertical-align: middle;\n",
       "    }\n",
       "\n",
       "    .dataframe tbody tr th {\n",
       "        vertical-align: top;\n",
       "    }\n",
       "\n",
       "    .dataframe thead th {\n",
       "        text-align: right;\n",
       "    }\n",
       "</style>\n",
       "<table border=\"1\" class=\"dataframe\">\n",
       "  <thead>\n",
       "    <tr style=\"text-align: right;\">\n",
       "      <th></th>\n",
       "      <th>ResultID</th>\n",
       "      <th>Date</th>\n",
       "      <th>ProductID</th>\n",
       "      <th>StoreID</th>\n",
       "      <th>Quantity Ordered</th>\n",
       "      <th>Price Each</th>\n",
       "      <th>Address</th>\n",
       "      <th>City</th>\n",
       "    </tr>\n",
       "  </thead>\n",
       "  <tbody>\n",
       "    <tr>\n",
       "      <th>0</th>\n",
       "      <td>1</td>\n",
       "      <td>01/01/23</td>\n",
       "      <td>101.0</td>\n",
       "      <td>ST01</td>\n",
       "      <td>1.0</td>\n",
       "      <td>700.00</td>\n",
       "      <td>123 Main Street</td>\n",
       "      <td>NYC</td>\n",
       "    </tr>\n",
       "    <tr>\n",
       "      <th>1</th>\n",
       "      <td>2</td>\n",
       "      <td>01/02/23</td>\n",
       "      <td>102.0</td>\n",
       "      <td>ST02</td>\n",
       "      <td>1.0</td>\n",
       "      <td>14.95</td>\n",
       "      <td>456 Elm Avenue</td>\n",
       "      <td>LA</td>\n",
       "    </tr>\n",
       "    <tr>\n",
       "      <th>2</th>\n",
       "      <td>3</td>\n",
       "      <td>01/03/23</td>\n",
       "      <td>103.0</td>\n",
       "      <td>ST03</td>\n",
       "      <td>2.0</td>\n",
       "      <td>11.99</td>\n",
       "      <td>789 Oak Boulevard</td>\n",
       "      <td>Chicago</td>\n",
       "    </tr>\n",
       "    <tr>\n",
       "      <th>3</th>\n",
       "      <td>4</td>\n",
       "      <td>01/04/23</td>\n",
       "      <td>104.0</td>\n",
       "      <td>ST04</td>\n",
       "      <td>1.0</td>\n",
       "      <td>149.99</td>\n",
       "      <td>1000 Pine Drive</td>\n",
       "      <td>Houston</td>\n",
       "    </tr>\n",
       "    <tr>\n",
       "      <th>4</th>\n",
       "      <td>5</td>\n",
       "      <td>01/05/23</td>\n",
       "      <td>105.0</td>\n",
       "      <td>ST05</td>\n",
       "      <td>1.0</td>\n",
       "      <td>11.99</td>\n",
       "      <td>123 Maple Street</td>\n",
       "      <td>Phoenix</td>\n",
       "    </tr>\n",
       "    <tr>\n",
       "      <th>...</th>\n",
       "      <td>...</td>\n",
       "      <td>...</td>\n",
       "      <td>...</td>\n",
       "      <td>...</td>\n",
       "      <td>...</td>\n",
       "      <td>...</td>\n",
       "      <td>...</td>\n",
       "      <td>...</td>\n",
       "    </tr>\n",
       "    <tr>\n",
       "      <th>366</th>\n",
       "      <td>333</td>\n",
       "      <td>12/27/23</td>\n",
       "      <td>128.0</td>\n",
       "      <td>ST13</td>\n",
       "      <td>1.0</td>\n",
       "      <td>11.95</td>\n",
       "      <td>123 Maple Street</td>\n",
       "      <td>Denver</td>\n",
       "    </tr>\n",
       "    <tr>\n",
       "      <th>367</th>\n",
       "      <td>334</td>\n",
       "      <td>12/28/23</td>\n",
       "      <td>NaN</td>\n",
       "      <td>ST14</td>\n",
       "      <td>3.0</td>\n",
       "      <td>2.99</td>\n",
       "      <td>456 Oak Avenue</td>\n",
       "      <td>Columbus</td>\n",
       "    </tr>\n",
       "    <tr>\n",
       "      <th>368</th>\n",
       "      <td>335</td>\n",
       "      <td>12/29/23</td>\n",
       "      <td>127.0</td>\n",
       "      <td>ST15</td>\n",
       "      <td>1.0</td>\n",
       "      <td>11.99</td>\n",
       "      <td>789 Elm Boulevard</td>\n",
       "      <td>Fort Worth</td>\n",
       "    </tr>\n",
       "    <tr>\n",
       "      <th>369</th>\n",
       "      <td>336</td>\n",
       "      <td>12/30/23</td>\n",
       "      <td>128.0</td>\n",
       "      <td>ST01</td>\n",
       "      <td>1.0</td>\n",
       "      <td>2.99</td>\n",
       "      <td>1000 Pine Drive</td>\n",
       "      <td>Charlotte</td>\n",
       "    </tr>\n",
       "    <tr>\n",
       "      <th>370</th>\n",
       "      <td>337</td>\n",
       "      <td>12/31/23</td>\n",
       "      <td>128.0</td>\n",
       "      <td>ST02</td>\n",
       "      <td>2.0</td>\n",
       "      <td>2.99</td>\n",
       "      <td>123 Main Street</td>\n",
       "      <td>Seattle</td>\n",
       "    </tr>\n",
       "  </tbody>\n",
       "</table>\n",
       "<p>371 rows × 8 columns</p>\n",
       "</div>"
      ]
     },
     "execution_count": 2,
     "metadata": {},
     "output_type": "execute_result"
    }
   ],
   "execution_count": 2
  },
  {
   "cell_type": "markdown",
   "source": [
    "# Clean Data"
   ],
   "metadata": {
    "collapsed": false
   },
   "id": "852045faf62d7ca"
  },
  {
   "cell_type": "code",
   "source": [
    "df.dropna(inplace=True)\n",
    "df.drop_duplicates(inplace=True)"
   ],
   "metadata": {
    "collapsed": false,
    "ExecuteTime": {
     "end_time": "2024-08-03T13:45:52.435495Z",
     "start_time": "2024-08-03T13:45:52.429745Z"
    }
   },
   "id": "dc8d3b5d42a8f42e",
   "outputs": [],
   "execution_count": 3
  },
  {
   "cell_type": "code",
   "source": [
    "df"
   ],
   "metadata": {
    "collapsed": false,
    "ExecuteTime": {
     "end_time": "2024-08-03T13:45:52.447299Z",
     "start_time": "2024-08-03T13:45:52.436507Z"
    }
   },
   "id": "828642a66c1c0169",
   "outputs": [
    {
     "data": {
      "text/plain": [
       "     ResultID      Date  ProductID StoreID  Quantity Ordered   Price Each   \\\n",
       "0           1  01/01/23      101.0    ST01               1.0        700.00   \n",
       "1           2  01/02/23      102.0    ST02               1.0         14.95   \n",
       "2           3  01/03/23      103.0    ST03               2.0         11.99   \n",
       "3           4  01/04/23      104.0    ST04               1.0        149.99   \n",
       "4           5  01/05/23      105.0    ST05               1.0         11.99   \n",
       "..        ...       ...        ...     ...               ...           ...   \n",
       "360       332  12/26/23      128.0    ST12               1.0        149.99   \n",
       "361       333  12/27/23      128.0    ST13               1.0         11.95   \n",
       "363       335  12/29/23      127.0    ST15               1.0         11.99   \n",
       "364       336  12/30/23      128.0    ST01               1.0          2.99   \n",
       "365       337  12/31/23      128.0    ST02               2.0          2.99   \n",
       "\n",
       "               Address        City  \n",
       "0      123 Main Street         NYC  \n",
       "1       456 Elm Avenue          LA  \n",
       "2    789 Oak Boulevard     Chicago  \n",
       "3      1000 Pine Drive     Houston  \n",
       "4     123 Maple Street     Phoenix  \n",
       "..                 ...         ...  \n",
       "360    123 Main Street     Seattle  \n",
       "361   123 Maple Street      Denver  \n",
       "363  789 Elm Boulevard  Fort Worth  \n",
       "364    1000 Pine Drive   Charlotte  \n",
       "365    123 Main Street     Seattle  \n",
       "\n",
       "[323 rows x 8 columns]"
      ],
      "text/html": [
       "<div>\n",
       "<style scoped>\n",
       "    .dataframe tbody tr th:only-of-type {\n",
       "        vertical-align: middle;\n",
       "    }\n",
       "\n",
       "    .dataframe tbody tr th {\n",
       "        vertical-align: top;\n",
       "    }\n",
       "\n",
       "    .dataframe thead th {\n",
       "        text-align: right;\n",
       "    }\n",
       "</style>\n",
       "<table border=\"1\" class=\"dataframe\">\n",
       "  <thead>\n",
       "    <tr style=\"text-align: right;\">\n",
       "      <th></th>\n",
       "      <th>ResultID</th>\n",
       "      <th>Date</th>\n",
       "      <th>ProductID</th>\n",
       "      <th>StoreID</th>\n",
       "      <th>Quantity Ordered</th>\n",
       "      <th>Price Each</th>\n",
       "      <th>Address</th>\n",
       "      <th>City</th>\n",
       "    </tr>\n",
       "  </thead>\n",
       "  <tbody>\n",
       "    <tr>\n",
       "      <th>0</th>\n",
       "      <td>1</td>\n",
       "      <td>01/01/23</td>\n",
       "      <td>101.0</td>\n",
       "      <td>ST01</td>\n",
       "      <td>1.0</td>\n",
       "      <td>700.00</td>\n",
       "      <td>123 Main Street</td>\n",
       "      <td>NYC</td>\n",
       "    </tr>\n",
       "    <tr>\n",
       "      <th>1</th>\n",
       "      <td>2</td>\n",
       "      <td>01/02/23</td>\n",
       "      <td>102.0</td>\n",
       "      <td>ST02</td>\n",
       "      <td>1.0</td>\n",
       "      <td>14.95</td>\n",
       "      <td>456 Elm Avenue</td>\n",
       "      <td>LA</td>\n",
       "    </tr>\n",
       "    <tr>\n",
       "      <th>2</th>\n",
       "      <td>3</td>\n",
       "      <td>01/03/23</td>\n",
       "      <td>103.0</td>\n",
       "      <td>ST03</td>\n",
       "      <td>2.0</td>\n",
       "      <td>11.99</td>\n",
       "      <td>789 Oak Boulevard</td>\n",
       "      <td>Chicago</td>\n",
       "    </tr>\n",
       "    <tr>\n",
       "      <th>3</th>\n",
       "      <td>4</td>\n",
       "      <td>01/04/23</td>\n",
       "      <td>104.0</td>\n",
       "      <td>ST04</td>\n",
       "      <td>1.0</td>\n",
       "      <td>149.99</td>\n",
       "      <td>1000 Pine Drive</td>\n",
       "      <td>Houston</td>\n",
       "    </tr>\n",
       "    <tr>\n",
       "      <th>4</th>\n",
       "      <td>5</td>\n",
       "      <td>01/05/23</td>\n",
       "      <td>105.0</td>\n",
       "      <td>ST05</td>\n",
       "      <td>1.0</td>\n",
       "      <td>11.99</td>\n",
       "      <td>123 Maple Street</td>\n",
       "      <td>Phoenix</td>\n",
       "    </tr>\n",
       "    <tr>\n",
       "      <th>...</th>\n",
       "      <td>...</td>\n",
       "      <td>...</td>\n",
       "      <td>...</td>\n",
       "      <td>...</td>\n",
       "      <td>...</td>\n",
       "      <td>...</td>\n",
       "      <td>...</td>\n",
       "      <td>...</td>\n",
       "    </tr>\n",
       "    <tr>\n",
       "      <th>360</th>\n",
       "      <td>332</td>\n",
       "      <td>12/26/23</td>\n",
       "      <td>128.0</td>\n",
       "      <td>ST12</td>\n",
       "      <td>1.0</td>\n",
       "      <td>149.99</td>\n",
       "      <td>123 Main Street</td>\n",
       "      <td>Seattle</td>\n",
       "    </tr>\n",
       "    <tr>\n",
       "      <th>361</th>\n",
       "      <td>333</td>\n",
       "      <td>12/27/23</td>\n",
       "      <td>128.0</td>\n",
       "      <td>ST13</td>\n",
       "      <td>1.0</td>\n",
       "      <td>11.95</td>\n",
       "      <td>123 Maple Street</td>\n",
       "      <td>Denver</td>\n",
       "    </tr>\n",
       "    <tr>\n",
       "      <th>363</th>\n",
       "      <td>335</td>\n",
       "      <td>12/29/23</td>\n",
       "      <td>127.0</td>\n",
       "      <td>ST15</td>\n",
       "      <td>1.0</td>\n",
       "      <td>11.99</td>\n",
       "      <td>789 Elm Boulevard</td>\n",
       "      <td>Fort Worth</td>\n",
       "    </tr>\n",
       "    <tr>\n",
       "      <th>364</th>\n",
       "      <td>336</td>\n",
       "      <td>12/30/23</td>\n",
       "      <td>128.0</td>\n",
       "      <td>ST01</td>\n",
       "      <td>1.0</td>\n",
       "      <td>2.99</td>\n",
       "      <td>1000 Pine Drive</td>\n",
       "      <td>Charlotte</td>\n",
       "    </tr>\n",
       "    <tr>\n",
       "      <th>365</th>\n",
       "      <td>337</td>\n",
       "      <td>12/31/23</td>\n",
       "      <td>128.0</td>\n",
       "      <td>ST02</td>\n",
       "      <td>2.0</td>\n",
       "      <td>2.99</td>\n",
       "      <td>123 Main Street</td>\n",
       "      <td>Seattle</td>\n",
       "    </tr>\n",
       "  </tbody>\n",
       "</table>\n",
       "<p>323 rows × 8 columns</p>\n",
       "</div>"
      ]
     },
     "execution_count": 4,
     "metadata": {},
     "output_type": "execute_result"
    }
   ],
   "execution_count": 4
  },
  {
   "cell_type": "markdown",
   "source": [
    "1. What was the best month for sales?\n"
   ],
   "metadata": {
    "collapsed": false
   },
   "id": "94bb64f2f73746c3"
  },
  {
   "cell_type": "code",
   "source": [
    "df['Sales'] = df['Quantity Ordered'] * df[' Price Each ']"
   ],
   "metadata": {
    "collapsed": false,
    "ExecuteTime": {
     "end_time": "2024-08-03T13:45:52.452993Z",
     "start_time": "2024-08-03T13:45:52.448541Z"
    }
   },
   "id": "e3286b8f038e2995",
   "outputs": [],
   "execution_count": 5
  },
  {
   "cell_type": "code",
   "source": [
    "df"
   ],
   "metadata": {
    "collapsed": false,
    "ExecuteTime": {
     "end_time": "2024-08-03T13:45:52.467659Z",
     "start_time": "2024-08-03T13:45:52.454502Z"
    }
   },
   "id": "5eef31ff678a3f49",
   "outputs": [
    {
     "data": {
      "text/plain": [
       "     ResultID      Date  ProductID StoreID  Quantity Ordered   Price Each   \\\n",
       "0           1  01/01/23      101.0    ST01               1.0        700.00   \n",
       "1           2  01/02/23      102.0    ST02               1.0         14.95   \n",
       "2           3  01/03/23      103.0    ST03               2.0         11.99   \n",
       "3           4  01/04/23      104.0    ST04               1.0        149.99   \n",
       "4           5  01/05/23      105.0    ST05               1.0         11.99   \n",
       "..        ...       ...        ...     ...               ...           ...   \n",
       "360       332  12/26/23      128.0    ST12               1.0        149.99   \n",
       "361       333  12/27/23      128.0    ST13               1.0         11.95   \n",
       "363       335  12/29/23      127.0    ST15               1.0         11.99   \n",
       "364       336  12/30/23      128.0    ST01               1.0          2.99   \n",
       "365       337  12/31/23      128.0    ST02               2.0          2.99   \n",
       "\n",
       "               Address        City   Sales  \n",
       "0      123 Main Street         NYC  700.00  \n",
       "1       456 Elm Avenue          LA   14.95  \n",
       "2    789 Oak Boulevard     Chicago   23.98  \n",
       "3      1000 Pine Drive     Houston  149.99  \n",
       "4     123 Maple Street     Phoenix   11.99  \n",
       "..                 ...         ...     ...  \n",
       "360    123 Main Street     Seattle  149.99  \n",
       "361   123 Maple Street      Denver   11.95  \n",
       "363  789 Elm Boulevard  Fort Worth   11.99  \n",
       "364    1000 Pine Drive   Charlotte    2.99  \n",
       "365    123 Main Street     Seattle    5.98  \n",
       "\n",
       "[323 rows x 9 columns]"
      ],
      "text/html": [
       "<div>\n",
       "<style scoped>\n",
       "    .dataframe tbody tr th:only-of-type {\n",
       "        vertical-align: middle;\n",
       "    }\n",
       "\n",
       "    .dataframe tbody tr th {\n",
       "        vertical-align: top;\n",
       "    }\n",
       "\n",
       "    .dataframe thead th {\n",
       "        text-align: right;\n",
       "    }\n",
       "</style>\n",
       "<table border=\"1\" class=\"dataframe\">\n",
       "  <thead>\n",
       "    <tr style=\"text-align: right;\">\n",
       "      <th></th>\n",
       "      <th>ResultID</th>\n",
       "      <th>Date</th>\n",
       "      <th>ProductID</th>\n",
       "      <th>StoreID</th>\n",
       "      <th>Quantity Ordered</th>\n",
       "      <th>Price Each</th>\n",
       "      <th>Address</th>\n",
       "      <th>City</th>\n",
       "      <th>Sales</th>\n",
       "    </tr>\n",
       "  </thead>\n",
       "  <tbody>\n",
       "    <tr>\n",
       "      <th>0</th>\n",
       "      <td>1</td>\n",
       "      <td>01/01/23</td>\n",
       "      <td>101.0</td>\n",
       "      <td>ST01</td>\n",
       "      <td>1.0</td>\n",
       "      <td>700.00</td>\n",
       "      <td>123 Main Street</td>\n",
       "      <td>NYC</td>\n",
       "      <td>700.00</td>\n",
       "    </tr>\n",
       "    <tr>\n",
       "      <th>1</th>\n",
       "      <td>2</td>\n",
       "      <td>01/02/23</td>\n",
       "      <td>102.0</td>\n",
       "      <td>ST02</td>\n",
       "      <td>1.0</td>\n",
       "      <td>14.95</td>\n",
       "      <td>456 Elm Avenue</td>\n",
       "      <td>LA</td>\n",
       "      <td>14.95</td>\n",
       "    </tr>\n",
       "    <tr>\n",
       "      <th>2</th>\n",
       "      <td>3</td>\n",
       "      <td>01/03/23</td>\n",
       "      <td>103.0</td>\n",
       "      <td>ST03</td>\n",
       "      <td>2.0</td>\n",
       "      <td>11.99</td>\n",
       "      <td>789 Oak Boulevard</td>\n",
       "      <td>Chicago</td>\n",
       "      <td>23.98</td>\n",
       "    </tr>\n",
       "    <tr>\n",
       "      <th>3</th>\n",
       "      <td>4</td>\n",
       "      <td>01/04/23</td>\n",
       "      <td>104.0</td>\n",
       "      <td>ST04</td>\n",
       "      <td>1.0</td>\n",
       "      <td>149.99</td>\n",
       "      <td>1000 Pine Drive</td>\n",
       "      <td>Houston</td>\n",
       "      <td>149.99</td>\n",
       "    </tr>\n",
       "    <tr>\n",
       "      <th>4</th>\n",
       "      <td>5</td>\n",
       "      <td>01/05/23</td>\n",
       "      <td>105.0</td>\n",
       "      <td>ST05</td>\n",
       "      <td>1.0</td>\n",
       "      <td>11.99</td>\n",
       "      <td>123 Maple Street</td>\n",
       "      <td>Phoenix</td>\n",
       "      <td>11.99</td>\n",
       "    </tr>\n",
       "    <tr>\n",
       "      <th>...</th>\n",
       "      <td>...</td>\n",
       "      <td>...</td>\n",
       "      <td>...</td>\n",
       "      <td>...</td>\n",
       "      <td>...</td>\n",
       "      <td>...</td>\n",
       "      <td>...</td>\n",
       "      <td>...</td>\n",
       "      <td>...</td>\n",
       "    </tr>\n",
       "    <tr>\n",
       "      <th>360</th>\n",
       "      <td>332</td>\n",
       "      <td>12/26/23</td>\n",
       "      <td>128.0</td>\n",
       "      <td>ST12</td>\n",
       "      <td>1.0</td>\n",
       "      <td>149.99</td>\n",
       "      <td>123 Main Street</td>\n",
       "      <td>Seattle</td>\n",
       "      <td>149.99</td>\n",
       "    </tr>\n",
       "    <tr>\n",
       "      <th>361</th>\n",
       "      <td>333</td>\n",
       "      <td>12/27/23</td>\n",
       "      <td>128.0</td>\n",
       "      <td>ST13</td>\n",
       "      <td>1.0</td>\n",
       "      <td>11.95</td>\n",
       "      <td>123 Maple Street</td>\n",
       "      <td>Denver</td>\n",
       "      <td>11.95</td>\n",
       "    </tr>\n",
       "    <tr>\n",
       "      <th>363</th>\n",
       "      <td>335</td>\n",
       "      <td>12/29/23</td>\n",
       "      <td>127.0</td>\n",
       "      <td>ST15</td>\n",
       "      <td>1.0</td>\n",
       "      <td>11.99</td>\n",
       "      <td>789 Elm Boulevard</td>\n",
       "      <td>Fort Worth</td>\n",
       "      <td>11.99</td>\n",
       "    </tr>\n",
       "    <tr>\n",
       "      <th>364</th>\n",
       "      <td>336</td>\n",
       "      <td>12/30/23</td>\n",
       "      <td>128.0</td>\n",
       "      <td>ST01</td>\n",
       "      <td>1.0</td>\n",
       "      <td>2.99</td>\n",
       "      <td>1000 Pine Drive</td>\n",
       "      <td>Charlotte</td>\n",
       "      <td>2.99</td>\n",
       "    </tr>\n",
       "    <tr>\n",
       "      <th>365</th>\n",
       "      <td>337</td>\n",
       "      <td>12/31/23</td>\n",
       "      <td>128.0</td>\n",
       "      <td>ST02</td>\n",
       "      <td>2.0</td>\n",
       "      <td>2.99</td>\n",
       "      <td>123 Main Street</td>\n",
       "      <td>Seattle</td>\n",
       "      <td>5.98</td>\n",
       "    </tr>\n",
       "  </tbody>\n",
       "</table>\n",
       "<p>323 rows × 9 columns</p>\n",
       "</div>"
      ]
     },
     "execution_count": 6,
     "metadata": {},
     "output_type": "execute_result"
    }
   ],
   "execution_count": 6
  },
  {
   "cell_type": "code",
   "source": [
    "df['Month'] = df['Date'].str[0:2]\n"
   ],
   "metadata": {
    "collapsed": false,
    "ExecuteTime": {
     "end_time": "2024-08-03T13:45:52.473177Z",
     "start_time": "2024-08-03T13:45:52.468674Z"
    }
   },
   "id": "4ab7226e12ece07f",
   "outputs": [],
   "execution_count": 7
  },
  {
   "cell_type": "code",
   "source": [
    "df.groupby('Month').sum()['Sales']\n"
   ],
   "metadata": {
    "collapsed": false,
    "ExecuteTime": {
     "end_time": "2024-08-03T13:45:52.482692Z",
     "start_time": "2024-08-03T13:45:52.474184Z"
    }
   },
   "id": "71db242e334afdae",
   "outputs": [
    {
     "data": {
      "text/plain": [
       "Month\n",
       "01     3863.25\n",
       "02     2782.96\n",
       "03     1493.96\n",
       "04     4189.95\n",
       "05     1986.35\n",
       "06     3831.11\n",
       "07     5131.92\n",
       "08     3445.19\n",
       "09    10450.17\n",
       "10     5640.81\n",
       "11     5836.05\n",
       "12     1962.79\n",
       "Name: Sales, dtype: float64"
      ]
     },
     "execution_count": 8,
     "metadata": {},
     "output_type": "execute_result"
    }
   ],
   "execution_count": 8
  },
  {
   "cell_type": "code",
   "source": [
    "sales_value = df.groupby('Month').sum()['Sales']\n",
    "sales_value"
   ],
   "metadata": {
    "collapsed": false,
    "ExecuteTime": {
     "end_time": "2024-08-03T13:45:52.490093Z",
     "start_time": "2024-08-03T13:45:52.483724Z"
    }
   },
   "id": "82ff07993b854feb",
   "outputs": [
    {
     "data": {
      "text/plain": [
       "Month\n",
       "01     3863.25\n",
       "02     2782.96\n",
       "03     1493.96\n",
       "04     4189.95\n",
       "05     1986.35\n",
       "06     3831.11\n",
       "07     5131.92\n",
       "08     3445.19\n",
       "09    10450.17\n",
       "10     5640.81\n",
       "11     5836.05\n",
       "12     1962.79\n",
       "Name: Sales, dtype: float64"
      ]
     },
     "execution_count": 9,
     "metadata": {},
     "output_type": "execute_result"
    }
   ],
   "execution_count": 9
  },
  {
   "cell_type": "code",
   "source": [
    "months = range(1,13)\n",
    "plt.bar(x=months, height=sales_value)\n",
    "plt.xticks(months)\n",
    "plt.xlabel('Months')\n",
    "plt.ylabel('Sales in USD')\n",
    "plt.show()"
   ],
   "metadata": {
    "collapsed": false,
    "ExecuteTime": {
     "end_time": "2024-08-03T13:45:52.617652Z",
     "start_time": "2024-08-03T13:45:52.492608Z"
    }
   },
   "id": "500a8df0bda9ad25",
   "outputs": [
    {
     "data": {
      "text/plain": [
       "<Figure size 640x480 with 1 Axes>"
      ],
      "image/png": "[encoded data removed]"
     },
     "metadata": {},
     "output_type": "display_data"
    }
   ],
   "execution_count": 10
  },
  {
   "cell_type": "code",
   "source": [
    "plt.plot(sales_value)\n",
    "plt.xticks(months)\n",
    "plt.xlabel('Months')\n",
    "plt.ylabel('Sales in USD')\n",
    "plt.show()"
   ],
   "metadata": {
    "collapsed": false,
    "ExecuteTime": {
     "end_time": "2024-08-03T13:45:52.708702Z",
     "start_time": "2024-08-03T13:45:52.618681Z"
    }
   },
   "id": "b2af011a7bd8e1d3",
   "outputs": [
    {
     "data": {
      "text/plain": [
       "<Figure size 640x480 with 1 Axes>"
      ],
      "image/png": "[encoded data removed]"
     },
     "metadata": {},
     "output_type": "display_data"
    }
   ],
   "execution_count": 11
  },
  {
   "cell_type": "markdown",
   "source": [
    "2. What city has the best sales?"
   ],
   "metadata": {
    "collapsed": false
   },
   "id": "3a550c672aef3151"
  },
  {
   "cell_type": "code",
   "source": [
    "df.groupby('City').sum()['Sales']\n"
   ],
   "metadata": {
    "collapsed": false,
    "ExecuteTime": {
     "end_time": "2024-08-03T13:45:52.716817Z",
     "start_time": "2024-08-03T13:45:52.709715Z"
    }
   },
   "id": "19f0b2e499ce826b",
   "outputs": [
    {
     "data": {
      "text/plain": [
       "City\n",
       "Austin          3366.25\n",
       "Charlotte       2136.38\n",
       "Chicago           23.98\n",
       "Columbus        6996.06\n",
       "Denver          5614.39\n",
       "Fort Worth      6429.30\n",
       "Houston          149.99\n",
       "Jacksonville    1531.48\n",
       "LA              6083.04\n",
       "NYC             3470.23\n",
       "Phoenix           11.99\n",
       "San Antonio     1411.25\n",
       "San Diego       3689.69\n",
       "San Jose        5219.66\n",
       "Seattle         4480.82\n",
       "Name: Sales, dtype: float64"
      ]
     },
     "execution_count": 12,
     "metadata": {},
     "output_type": "execute_result"
    }
   ],
   "execution_count": 12
  },
  {
   "cell_type": "code",
   "source": [
    "sales_value_city = df.groupby('City').sum()['Sales']\n",
    "sales_value_city"
   ],
   "metadata": {
    "collapsed": false,
    "ExecuteTime": {
     "end_time": "2024-08-03T13:45:52.724810Z",
     "start_time": "2024-08-03T13:45:52.717834Z"
    }
   },
   "id": "1ab5c87df245e7a1",
   "outputs": [
    {
     "data": {
      "text/plain": [
       "City\n",
       "Austin          3366.25\n",
       "Charlotte       2136.38\n",
       "Chicago           23.98\n",
       "Columbus        6996.06\n",
       "Denver          5614.39\n",
       "Fort Worth      6429.30\n",
       "Houston          149.99\n",
       "Jacksonville    1531.48\n",
       "LA              6083.04\n",
       "NYC             3470.23\n",
       "Phoenix           11.99\n",
       "San Antonio     1411.25\n",
       "San Diego       3689.69\n",
       "San Jose        5219.66\n",
       "Seattle         4480.82\n",
       "Name: Sales, dtype: float64"
      ]
     },
     "execution_count": 13,
     "metadata": {},
     "output_type": "execute_result"
    }
   ],
   "execution_count": 13
  },
  {
   "cell_type": "code",
   "source": [
    "cities = [city for city, sales in sales_value_city.items()]\n",
    "print(cities)"
   ],
   "metadata": {
    "collapsed": false,
    "ExecuteTime": {
     "end_time": "2024-08-03T13:45:52.730305Z",
     "start_time": "2024-08-03T13:45:52.725830Z"
    }
   },
   "id": "46d344bbcac6c0ab",
   "outputs": [
    {
     "name": "stdout",
     "output_type": "stream",
     "text": [
      "['Austin', 'Charlotte', 'Chicago', 'Columbus', 'Denver', 'Fort Worth', 'Houston', 'Jacksonville', 'LA', 'NYC', 'Phoenix', 'San Antonio', 'San Diego', 'San Jose', 'Seattle']\n"
     ]
    }
   ],
   "execution_count": 14
  },
  {
   "cell_type": "code",
   "source": [
    "plt.bar(x=cities, height=sales_value_city)\n",
    "plt.xticks(cities, rotation=100, size=8)\n",
    "plt.xlabel('Cities')\n",
    "plt.ylabel('Sales in USD')\n",
    "plt.show()"
   ],
   "metadata": {
    "collapsed": false,
    "ExecuteTime": {
     "end_time": "2024-08-03T13:45:52.857701Z",
     "start_time": "2024-08-03T13:45:52.731316Z"
    }
   },
   "id": "7a16f743b2b3f7b0",
   "outputs": [
    {
     "data": {
      "text/plain": [
       "<Figure size 640x480 with 1 Axes>"
      ],
      "image/png": "[encoded data removed]"
     },
     "metadata": {},
     "output_type": "display_data"
    }
   ],
   "execution_count": 15
  },
  {
   "cell_type": "markdown",
   "source": [],
   "metadata": {
    "collapsed": false
   },
   "id": "cdd4bb754a76f902"
  },
  {
   "cell_type": "markdown",
   "source": [
    "3. Top N ProductID with the highest /lowest sales"
   ],
   "metadata": {
    "collapsed": false
   },
   "id": "6b1bacbadc2db9e5"
  },
  {
   "cell_type": "code",
   "source": [
    "df['ProductID'] = df['ProductID'].astype(int)"
   ],
   "metadata": {
    "collapsed": false,
    "ExecuteTime": {
     "end_time": "2024-08-03T13:45:52.863175Z",
     "start_time": "2024-08-03T13:45:52.859129Z"
    }
   },
   "id": "d172d2f294b7dd91",
   "outputs": [],
   "execution_count": 16
  },
  {
   "cell_type": "code",
   "source": [
    "df['Sales'] = df['ProductID'].astype(float)"
   ],
   "metadata": {
    "collapsed": false,
    "ExecuteTime": {
     "end_time": "2024-08-03T13:45:52.867878Z",
     "start_time": "2024-08-03T13:45:52.864186Z"
    }
   },
   "id": "d3d228e680bdf3ee",
   "outputs": [],
   "execution_count": 17
  },
  {
   "cell_type": "code",
   "source": [
    "store_value = df.groupby('StoreID').sum()['Sales']\n",
    "store_value_sales = store_value.nlargest(10)\n",
    "store_value_sales"
   ],
   "metadata": {
    "collapsed": false,
    "ExecuteTime": {
     "end_time": "2024-08-03T13:45:52.877453Z",
     "start_time": "2024-08-03T13:45:52.868890Z"
    }
   },
   "id": "f969533c4ccfc2ce",
   "outputs": [
    {
     "data": {
      "text/plain": [
       "StoreID\n",
       "ST02    3091.0\n",
       "ST04    3051.0\n",
       "ST11    2815.0\n",
       "ST15    2763.0\n",
       "ST01    2757.0\n",
       "ST06    2726.0\n",
       "ST13    2714.0\n",
       "ST03    2699.0\n",
       "ST12    2515.0\n",
       "ST05    2421.0\n",
       "Name: Sales, dtype: float64"
      ]
     },
     "execution_count": 18,
     "metadata": {},
     "output_type": "execute_result"
    }
   ],
   "execution_count": 18
  },
  {
   "cell_type": "code",
   "source": [
    "StoreId = [StoreID for StoreID, sales in store_value_sales.items()]\n",
    "StoreId"
   ],
   "metadata": {
    "collapsed": false,
    "ExecuteTime": {
     "end_time": "2024-08-03T13:45:52.882210Z",
     "start_time": "2024-08-03T13:45:52.877453Z"
    }
   },
   "id": "ee42b0bb9ec9af62",
   "outputs": [
    {
     "data": {
      "text/plain": [
       "['ST02',\n",
       " 'ST04',\n",
       " 'ST11',\n",
       " 'ST15',\n",
       " 'ST01',\n",
       " 'ST06',\n",
       " 'ST13',\n",
       " 'ST03',\n",
       " 'ST12',\n",
       " 'ST05']"
      ]
     },
     "execution_count": 19,
     "metadata": {},
     "output_type": "execute_result"
    }
   ],
   "execution_count": 19
  },
  {
   "cell_type": "code",
   "source": [
    "plt.bar(x=StoreId, height=store_value_sales)\n",
    "plt.xticks(StoreId, rotation=90, size=8 )\n",
    "plt.title('Top 10 Store highest by Sales')\n",
    "plt.xlabel('Store')\n",
    "plt.ylabel('Sales in USD')\n",
    "plt.show()"
   ],
   "metadata": {
    "collapsed": false,
    "ExecuteTime": {
     "end_time": "2024-08-03T13:45:52.998055Z",
     "start_time": "2024-08-03T13:45:52.882727Z"
    }
   },
   "id": "2fbbed9788b30953",
   "outputs": [
    {
     "data": {
      "text/plain": [
       "<Figure size 640x480 with 1 Axes>"
      ],
      "image/png": "[encoded data removed]"
     },
     "metadata": {},
     "output_type": "display_data"
    }
   ],
   "execution_count": 20
  },
  {
   "cell_type": "markdown",
   "source": [
    "4. Top N City by Sales"
   ],
   "metadata": {
    "collapsed": false
   },
   "id": "94002b5402212c4b"
  },
  {
   "cell_type": "code",
   "source": [
    "city_value = df.groupby('City').sum()['Sales']\n",
    "city_value_sales = city_value.nlargest(4)\n",
    "city_value_sales"
   ],
   "metadata": {
    "collapsed": false,
    "ExecuteTime": {
     "end_time": "2024-08-03T13:45:53.007471Z",
     "start_time": "2024-08-03T13:45:52.999066Z"
    }
   },
   "id": "2164de69c3e9b505",
   "outputs": [
    {
     "data": {
      "text/plain": [
       "City\n",
       "Fort Worth    4532.0\n",
       "Seattle       4438.0\n",
       "Columbus      4361.0\n",
       "Charlotte     3925.0\n",
       "Name: Sales, dtype: float64"
      ]
     },
     "execution_count": 21,
     "metadata": {},
     "output_type": "execute_result"
    }
   ],
   "execution_count": 21
  },
  {
   "cell_type": "code",
   "source": [
    "City = [City for City, sales in city_value_sales.items()]\n",
    "City"
   ],
   "metadata": {
    "collapsed": false,
    "ExecuteTime": {
     "end_time": "2024-08-03T13:45:53.013506Z",
     "start_time": "2024-08-03T13:45:53.008484Z"
    }
   },
   "id": "2c671278446f4cfe",
   "outputs": [
    {
     "data": {
      "text/plain": [
       "['Fort Worth', 'Seattle', 'Columbus', 'Charlotte']"
      ]
     },
     "execution_count": 22,
     "metadata": {},
     "output_type": "execute_result"
    }
   ],
   "execution_count": 22
  },
  {
   "cell_type": "code",
   "source": [
    "plt.pie(city_value_sales, labels = City, autopct='%.4f')\n",
    "plt.title('Top 4 City highest by Sales')\n",
    "plt.show()"
   ],
   "metadata": {
    "collapsed": false,
    "ExecuteTime": {
     "end_time": "2024-08-03T13:45:53.075378Z",
     "start_time": "2024-08-03T13:45:53.014516Z"
    }
   },
   "id": "e0ffca25190c685a",
   "outputs": [
    {
     "data": {
      "text/plain": [
       "<Figure size 640x480 with 1 Axes>"
      ],
      "image/png": "[encoded data removed]"
     },
     "metadata": {},
     "output_type": "display_data"
    }
   ],
   "execution_count": 23
  },
  {
   "cell_type": "markdown",
   "source": [
    "* Marchine Learning "
   ],
   "metadata": {
    "collapsed": false
   },
   "id": "a8b3f133296339e8"
  },
  {
   "cell_type": "markdown",
   "source": [
    "Apply Linear Regression for predicting future sales"
   ],
   "metadata": {
    "collapsed": false
   },
   "id": "d35a94e25d9e4cf3"
  },
  {
   "cell_type": "code",
   "source": [
    "# Preprocess the data\n",
    "df['Date'] = pd.to_datetime(df['Date'])\n",
    "df['Month'] = df['Date'].dt.month\n",
    "df['Year'] = df['Date'].dt.year\n",
    "df['Sales'] = df['Quantity Ordered'] * df[' Price Each ']\n",
    "\n",
    "# Select features and target variable\n",
    "X = df[['Month', 'Year']]  # Features: Month and Year\n",
    "y = df['Sales']             # Target variable: Sales\n",
    "\n",
    "# Split the data into training and testing sets\n",
    "X_train, X_test, y_train, y_test = train_test_split(X, y, test_size=0.2, random_state=42)\n",
    "\n",
    "# Train the Linear Regression model\n",
    "model = LinearRegression()\n",
    "model.fit(X_train, y_train)\n",
    "\n",
    "# Evaluate the model\n",
    "y_pred = model.predict(X_test)\n",
    "mse = mean_squared_error(y_test, y_pred)\n",
    "print('Mean Squared Error:', mse)\n",
    "\n",
    "# Visualize the actual vs predicted sales\n",
    "plt.scatter(X_test['Month'], y_test, color='blue', label='Actual')\n",
    "plt.plot(X_test['Month'], y_pred, color='red', label='Predicted')\n",
    "plt.xlabel('Month')\n",
    "plt.ylabel('Sales')\n",
    "plt.title('Actual vs Predicted Sales')\n",
    "plt.legend()\n",
    "plt.show()\n",
    "\n",
    "# Predict future sales\n",
    "future_months = pd.DataFrame({'Month': [13, 14, 15], 'Year': [2024, 2024, 2024]})\n",
    "future_sales = model.predict(future_months)\n",
    "print('Predicted future sales:', future_sales)"
   ],
   "metadata": {
    "collapsed": false,
    "ExecuteTime": {
     "end_time": "2024-08-03T13:45:53.236959Z",
     "start_time": "2024-08-03T13:45:53.076386Z"
    }
   },
   "id": "fde654db3b71ccfe",
   "outputs": [
    {
     "name": "stdout",
     "output_type": "stream",
     "text": [
      "Mean Squared Error: 32829.21930623542\n"
     ]
    },
    {
     "name": "stderr",
     "output_type": "stream",
     "text": [
      "C:\\Users\\ducan\\AppData\\Local\\Temp\\ipykernel_6628\\3346814590.py:2: UserWarning: Could not infer format, so each element will be parsed individually, falling back to `dateutil`. To ensure parsing is consistent and as-expected, please specify a format.\n",
      "  df['Date'] = pd.to_datetime(df['Date'])\n"
     ]
    },
    {
     "data": {
      "text/plain": [
       "<Figure size 640x480 with 1 Axes>"
      ],
      "image/png": "[encoded data removed]"
     },
     "metadata": {},
     "output_type": "display_data"
    },
    {
     "name": "stdout",
     "output_type": "stream",
     "text": [
      "Predicted future sales: [226.8732987  235.81544736 244.75759601]\n"
     ]
    }
   ],
   "execution_count": 24
  },
  {
   "cell_type": "markdown",
   "source": [],
   "metadata": {
    "collapsed": false
   },
   "id": "b4006a887d881c38"
  },
  {
   "cell_type": "code",
   "source": [
    "# Thank you so much!"
   ],
   "metadata": {
    "collapsed": false,
    "ExecuteTime": {
     "end_time": "2024-08-03T13:45:53.241248Z",
     "start_time": "2024-08-03T13:45:53.237962Z"
    }
   },
   "id": "4aaad5adc39c83a0",
   "outputs": [],
   "execution_count": 25
  }
 ],
 "metadata": {
  "kernelspec": {
   "display_name": "Python 3",
   "language": "python",
   "name": "python3"
  },
  "language_info": {
   "codemirror_mode": {
    "name": "ipython",
    "version": 2
   },
   "file_extension": ".py",
   "mimetype": "text/x-python",
   "name": "python",
   "nbconvert_exporter": "python",
   "pygments_lexer": "ipython2",
   "version": "2.7.6"
  }
 },
 "nbformat": 4,
 "nbformat_minor": 5
}
